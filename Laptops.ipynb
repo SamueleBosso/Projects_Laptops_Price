{
 "cells": [
  {
   "cell_type": "markdown",
   "metadata": {},
   "source": [
    "LAPTOP ANALYSIS"
   ]
  },
  {
   "cell_type": "code",
   "execution_count": 1,
   "metadata": {},
   "outputs": [
    {
     "name": "stdout",
     "output_type": "stream",
     "text": [
      "Laptop:\n",
      "  Company      Product   TypeName                    ScreenResolution  \\\n",
      "0   Apple  MacBook Pro  Ultrabook  IPS Panel Retina Display 2560x1600   \n",
      "1   Apple  Macbook Air  Ultrabook                            1440x900   \n",
      "2      HP       250 G6   Notebook                   Full HD 1920x1080   \n",
      "3   Apple  MacBook Pro  Ultrabook  IPS Panel Retina Display 2880x1800   \n",
      "4   Apple  MacBook Pro  Ultrabook  IPS Panel Retina Display 2560x1600   \n",
      "\n",
      "  CPU_Company       CPU_Type GPU_Company                GPU_Type  OpSys  \\\n",
      "0       Intel        Core i5       Intel  Iris Plus Graphics 640  macOS   \n",
      "1       Intel        Core i5       Intel        HD Graphics 6000  macOS   \n",
      "2       Intel  Core i5 7200U       Intel         HD Graphics 620  No OS   \n",
      "3       Intel        Core i7         AMD          Radeon Pro 455  macOS   \n",
      "4       Intel        Core i5       Intel  Iris Plus Graphics 650  macOS   \n",
      "\n",
      "   Laptop_ID  \n",
      "0          1  \n",
      "1          2  \n",
      "2          3  \n",
      "3          4  \n",
      "4          5  \n",
      "Prestazioni:\n",
      "   CPU_Frequency (GHz)  RAM (GB)               Memory  Weight (kg)  \\\n",
      "0                  2.3         8            128GB SSD         1.37   \n",
      "1                  1.8         8  128GB Flash Storage         1.34   \n",
      "2                  2.5         8            256GB SSD         1.86   \n",
      "3                  2.7        16            512GB SSD         1.83   \n",
      "4                  3.1         8            256GB SSD         1.37   \n",
      "\n",
      "   Price (Euro)  Laptop_ID  \n",
      "0       1339.69          1  \n",
      "1        898.94          2  \n",
      "2        575.00          3  \n",
      "3       2537.45          4  \n",
      "4       1803.60          5  \n"
     ]
    },
    {
     "name": "stderr",
     "output_type": "stream",
     "text": [
      "C:\\Users\\SamueleBosso\\AppData\\Local\\Temp\\ipykernel_16276\\2433883845.py:20: SettingWithCopyWarning: \n",
      "A value is trying to be set on a copy of a slice from a DataFrame.\n",
      "Try using .loc[row_indexer,col_indexer] = value instead\n",
      "\n",
      "See the caveats in the documentation: https://pandas.pydata.org/pandas-docs/stable/user_guide/indexing.html#returning-a-view-versus-a-copy\n",
      "  df_latops['Laptop_ID'] = range(1, len(df_latops) + 1)\n",
      "C:\\Users\\SamueleBosso\\AppData\\Local\\Temp\\ipykernel_16276\\2433883845.py:23: SettingWithCopyWarning: \n",
      "A value is trying to be set on a copy of a slice from a DataFrame.\n",
      "Try using .loc[row_indexer,col_indexer] = value instead\n",
      "\n",
      "See the caveats in the documentation: https://pandas.pydata.org/pandas-docs/stable/user_guide/indexing.html#returning-a-view-versus-a-copy\n",
      "  df_prestazioni['Laptop_ID'] = df_latops['Laptop_ID']\n"
     ]
    }
   ],
   "source": [
    "#First we import the libraries\n",
    "import pandas as pd\n",
    "\n",
    "# Loading and cleaning the data\n",
    "documento = pd.read_csv(\"C:/Users/SamueleBosso/OneDrive - ITS Incom/Desktop/Sam/Progetti/LAPTOP PRICE/laptop.csv\", sep=';')\n",
    "documento = documento.dropna()\n",
    "\n",
    "#  Dimensions and facts\n",
    "dimensioni = ['Company', 'Product', 'TypeName', 'ScreenResolution', 'CPU_Company', 'CPU_Type', \n",
    "              'GPU_Company', 'GPU_Type', 'OpSys']\n",
    "fatti = ['CPU_Frequency (GHz)', 'RAM (GB)', 'Memory', 'Weight (kg)', 'Price (Euro)']\n",
    "\n",
    "# Create separate DataFrames for dimensions and facts\n",
    "df_latops = documento[dimensioni]\n",
    "df_prestazioni = documento[fatti]\n",
    "\n",
    "documento['Price (Euro)'] = documento['Price (Euro)'].astype(float)\n",
    "\n",
    "# Add a unique ID column\n",
    "df_latops['Laptop_ID'] = range(1, len(df_latops) + 1)\n",
    "\n",
    "# Now merge the ID with the performance DataFrame (assuming each laptop has only one row in df_performance)\n",
    "df_prestazioni['Laptop_ID'] = df_latops['Laptop_ID']\n",
    "\n",
    "# Display the first few rows for verification\n",
    "print(\"Laptop:\")\n",
    "print(df_latops.head())\n",
    "\n",
    "print(\"Prestazioni:\")\n",
    "print(df_prestazioni.head())\n"
   ]
  },
  {
   "cell_type": "code",
   "execution_count": 5,
   "metadata": {},
   "outputs": [
    {
     "name": "stdout",
     "output_type": "stream",
     "text": [
      "Company                0\n",
      "Product                0\n",
      "TypeName               0\n",
      "Inches                 0\n",
      "ScreenResolution       0\n",
      "CPU_Company            0\n",
      "CPU_Type               0\n",
      "CPU_Frequency (GHz)    0\n",
      "RAM (GB)               0\n",
      "Memory                 0\n",
      "GPU_Company            0\n",
      "GPU_Type               0\n",
      "OpSys                  0\n",
      "Weight (kg)            0\n",
      "Price (Euro)           0\n",
      "dtype: int64\n"
     ]
    }
   ],
   "source": [
    "# Check  of the null values\n",
    "print(documento.isnull().sum())"
   ]
  },
  {
   "cell_type": "code",
   "execution_count": 4,
   "metadata": {},
   "outputs": [],
   "source": [
    "#Export the DataFrames to CSV files\n",
    "df_latops.to_csv('laptop_dimensioni.csv', index=False)\n",
    "df_prestazioni.to_csv('laptop_prestazioni.csv', index=False)"
   ]
  }
 ],
 "metadata": {
  "kernelspec": {
   "display_name": "Python 3",
   "language": "python",
   "name": "python3"
  },
  "language_info": {
   "codemirror_mode": {
    "name": "ipython",
    "version": 3
   },
   "file_extension": ".py",
   "mimetype": "text/x-python",
   "name": "python",
   "nbconvert_exporter": "python",
   "pygments_lexer": "ipython3",
   "version": "3.12.0"
  }
 },
 "nbformat": 4,
 "nbformat_minor": 2
}
